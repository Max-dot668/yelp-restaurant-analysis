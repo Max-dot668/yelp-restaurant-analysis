{
 "cells": [
  {
   "cell_type": "markdown",
   "id": "8416dd7a-763e-43d7-8835-78083d0c2508",
   "metadata": {},
   "source": [
    "# Yelp Restaurant Analysis\n",
    "## Business Question\n",
    "**Primary Question:** What factors make restaurants successful on Yelp?"
   ]
  },
  {
   "cell_type": "code",
   "execution_count": 1,
   "id": "3471fc7c-dce3-4060-bcc1-849256f1d047",
   "metadata": {},
   "outputs": [
    {
     "data": {
      "text/html": [
       "<div>\n",
       "<style scoped>\n",
       "    .dataframe tbody tr th:only-of-type {\n",
       "        vertical-align: middle;\n",
       "    }\n",
       "\n",
       "    .dataframe tbody tr th {\n",
       "        vertical-align: top;\n",
       "    }\n",
       "\n",
       "    .dataframe thead th {\n",
       "        text-align: right;\n",
       "    }\n",
       "</style>\n",
       "<table border=\"1\" class=\"dataframe\">\n",
       "  <thead>\n",
       "    <tr style=\"text-align: right;\">\n",
       "      <th></th>\n",
       "      <th>Yelp URL</th>\n",
       "      <th>Rating</th>\n",
       "      <th>Date</th>\n",
       "      <th>Review Text</th>\n",
       "    </tr>\n",
       "  </thead>\n",
       "  <tbody>\n",
       "    <tr>\n",
       "      <th>0</th>\n",
       "      <td>https://www.yelp.com/biz/sidney-dairy-barn-sidney</td>\n",
       "      <td>5</td>\n",
       "      <td>1/22/2022</td>\n",
       "      <td>All I can say is they have very good ice cream...</td>\n",
       "    </tr>\n",
       "    <tr>\n",
       "      <th>1</th>\n",
       "      <td>https://www.yelp.com/biz/sidney-dairy-barn-sidney</td>\n",
       "      <td>4</td>\n",
       "      <td>6/26/2022</td>\n",
       "      <td>Nice little local place for ice cream.My favor...</td>\n",
       "    </tr>\n",
       "    <tr>\n",
       "      <th>2</th>\n",
       "      <td>https://www.yelp.com/biz/sidney-dairy-barn-sidney</td>\n",
       "      <td>5</td>\n",
       "      <td>8/7/2021</td>\n",
       "      <td>A delicious treat on a hot day! Staff was very...</td>\n",
       "    </tr>\n",
       "    <tr>\n",
       "      <th>3</th>\n",
       "      <td>https://www.yelp.com/biz/sidney-dairy-barn-sidney</td>\n",
       "      <td>4</td>\n",
       "      <td>7/28/2016</td>\n",
       "      <td>This was great service and a fun crew! I got t...</td>\n",
       "    </tr>\n",
       "    <tr>\n",
       "      <th>4</th>\n",
       "      <td>https://www.yelp.com/biz/sidney-dairy-barn-sidney</td>\n",
       "      <td>5</td>\n",
       "      <td>6/23/2015</td>\n",
       "      <td>This is one of my favorite places to get ice c...</td>\n",
       "    </tr>\n",
       "  </tbody>\n",
       "</table>\n",
       "</div>"
      ],
      "text/plain": [
       "                                            Yelp URL  Rating       Date  \\\n",
       "0  https://www.yelp.com/biz/sidney-dairy-barn-sidney       5  1/22/2022   \n",
       "1  https://www.yelp.com/biz/sidney-dairy-barn-sidney       4  6/26/2022   \n",
       "2  https://www.yelp.com/biz/sidney-dairy-barn-sidney       5   8/7/2021   \n",
       "3  https://www.yelp.com/biz/sidney-dairy-barn-sidney       4  7/28/2016   \n",
       "4  https://www.yelp.com/biz/sidney-dairy-barn-sidney       5  6/23/2015   \n",
       "\n",
       "                                         Review Text  \n",
       "0  All I can say is they have very good ice cream...  \n",
       "1  Nice little local place for ice cream.My favor...  \n",
       "2  A delicious treat on a hot day! Staff was very...  \n",
       "3  This was great service and a fun crew! I got t...  \n",
       "4  This is one of my favorite places to get ice c...  "
      ]
     },
     "execution_count": 1,
     "metadata": {},
     "output_type": "execute_result"
    }
   ],
   "source": [
    "# Load dataset and inspect \n",
    "import pandas as pd\n",
    "reviews = pd.read_csv('Yelp Restaurant Reviews.csv')\n",
    "reviews.head()"
   ]
  },
  {
   "cell_type": "code",
   "execution_count": 2,
   "id": "48268806-1614-4bc5-8c5b-3e8a9ff4f595",
   "metadata": {},
   "outputs": [
    {
     "name": "stdout",
     "output_type": "stream",
     "text": [
      "Dataset shape: (19896, 4)\n",
      "\n",
      "Column names:\n",
      "['Yelp URL', 'Rating', 'Date', 'Review Text']\n",
      "\n",
      "Data types:\n",
      "Yelp URL       object\n",
      "Rating          int64\n",
      "Date           object\n",
      "Review Text    object\n",
      "dtype: object\n"
     ]
    }
   ],
   "source": [
    "# Explore the data structure of dataset\n",
    "print(\"Dataset shape:\", reviews.shape)\n",
    "print(\"\\nColumn names:\")\n",
    "print(reviews.columns.tolist())\n",
    "print(\"\\nData types:\")\n",
    "print(reviews.dtypes)"
   ]
  },
  {
   "cell_type": "code",
   "execution_count": 3,
   "id": "6dda375d-4bb5-4684-8f28-f1236f1a294c",
   "metadata": {},
   "outputs": [
    {
     "name": "stdout",
     "output_type": "stream",
     "text": [
      "Missing values:\n",
      "Yelp URL       0\n",
      "Rating         0\n",
      "Date           0\n",
      "Review Text    0\n",
      "dtype: int64\n"
     ]
    }
   ],
   "source": [
    "# Check if there are any missing values \n",
    "print(\"Missing values:\")\n",
    "print(reviews.isnull().sum())"
   ]
  },
  {
   "cell_type": "code",
   "execution_count": 4,
   "id": "2bf1bb18-cfd2-4a50-8c00-ed5a472f86d4",
   "metadata": {},
   "outputs": [
    {
     "name": "stdout",
     "output_type": "stream",
     "text": [
      "Rating distribution:\n",
      "Rating\n",
      "1     1217\n",
      "2     1280\n",
      "3     2069\n",
      "4     4447\n",
      "5    10883\n",
      "Name: count, dtype: int64\n"
     ]
    }
   ],
   "source": [
    "# Check for rating distribution\n",
    "print(\"Rating distribution:\")\n",
    "print(reviews['Rating'].value_counts().sort_index())"
   ]
  },
  {
   "cell_type": "code",
   "execution_count": 5,
   "id": "92bb9c4b-8461-4b2e-955d-641984b290af",
   "metadata": {},
   "outputs": [
    {
     "name": "stdout",
     "output_type": "stream",
     "text": [
      "Number of unique restaurants:\n",
      "49\n"
     ]
    }
   ],
   "source": [
    "# How many different restaurants are there in the dataset?\n",
    "print(\"Number of unique restaurants:\")\n",
    "print(reviews['Yelp URL'].nunique())"
   ]
  },
  {
   "cell_type": "code",
   "execution_count": 6,
   "id": "e32f4829-c925-4c80-84be-97e9f9416aa8",
   "metadata": {},
   "outputs": [
    {
     "name": "stdout",
     "output_type": "stream",
     "text": [
      "\n",
      "Sample of different restaurants:\n",
      "['https://www.yelp.com/biz/sidney-dairy-barn-sidney'\n",
      " 'https://www.yelp.com/biz/rewind-ice-cream-boba-tea-chandler-3'\n",
      " 'https://www.yelp.com/biz/carlos-bakery-las-vegas-3'\n",
      " 'https://www.yelp.com/biz/the-vegan-doughnut-company-lakewood-3'\n",
      " 'https://www.yelp.com/biz/the-butterwood-bake-consortium-pittsburgh']\n"
     ]
    }
   ],
   "source": [
    "# Show the URL of a few different restaurants\n",
    "print(\"\\nSample of different restaurants:\")\n",
    "print(reviews['Yelp URL'].unique()[:5])"
   ]
  },
  {
   "cell_type": "code",
   "execution_count": 7,
   "id": "003fce61-855f-4a3d-9792-488502ada536",
   "metadata": {},
   "outputs": [],
   "source": [
    "# Callculate average rating per restaurant\n",
    "restaurant_stats = reviews.groupby('Yelp URL')['Rating'].agg(['mean', 'count']).reset_index()\n",
    "restaurant_stats.columns = ['Restaurant', 'Avg_Rating', 'Review_Count']"
   ]
  },
  {
   "cell_type": "code",
   "execution_count": 8,
   "id": "f2781267-ff3f-4e2e-a5ca-98ea21c23b6e",
   "metadata": {},
   "outputs": [],
   "source": [
    "# Sort by average rating\n",
    "restaurant_stats = restaurant_stats.sort_values('Avg_Rating', ascending=False)"
   ]
  },
  {
   "cell_type": "code",
   "execution_count": 9,
   "id": "f8a52648-e09e-4fc6-88d5-d754949486bf",
   "metadata": {},
   "outputs": [
    {
     "name": "stdout",
     "output_type": "stream",
     "text": [
      "Top 10 restaurants by average rating:\n",
      "                                           Restaurant  Avg_Rating  \\\n",
      "31   https://www.yelp.com/biz/novel-ice-cream-phoenix    4.929134   \n",
      "19  https://www.yelp.com/biz/ice-cream-social-madison    4.923077   \n",
      "47  https://www.yelp.com/biz/the-vegan-doughnut-co...    4.797980   \n",
      "44  https://www.yelp.com/biz/the-batchmaker-charlotte    4.794118   \n",
      "29  https://www.yelp.com/biz/mitchells-homemade-ic...    4.788321   \n",
      "37        https://www.yelp.com/biz/scooptopia-phoenix    4.760638   \n",
      "26  https://www.yelp.com/biz/matcha-cafe-maiko-cha...    4.717742   \n",
      "17  https://www.yelp.com/biz/honey-hut-ice-cream-c...    4.687023   \n",
      "33          https://www.yelp.com/biz/pages-pittsburgh    4.666667   \n",
      "2    https://www.yelp.com/biz/batch-bakehouse-madison    4.643902   \n",
      "\n",
      "    Review_Count  \n",
      "31          1016  \n",
      "19            26  \n",
      "47            99  \n",
      "44           102  \n",
      "29           548  \n",
      "37           188  \n",
      "26           124  \n",
      "17           131  \n",
      "33           288  \n",
      "2            205  \n"
     ]
    }
   ],
   "source": [
    "# Print the results of restaurant_stats\n",
    "print(\"Top 10 restaurants by average rating:\")\n",
    "print(restaurant_stats.head(10))"
   ]
  },
  {
   "cell_type": "code",
   "execution_count": 11,
   "id": "ba34af49-3720-47c1-9eb9-fea7dae825ab",
   "metadata": {},
   "outputs": [
    {
     "name": "stdout",
     "output_type": "stream",
     "text": [
      "Restaurants with most reviews:\n",
      "                                           Restaurant  Avg_Rating  \\\n",
      "1   https://www.yelp.com/biz/am%C3%A9lies-french-b...    4.075906   \n",
      "3   https://www.yelp.com/biz/bouchon-bakery-las-ve...    4.000000   \n",
      "28  https://www.yelp.com/biz/milk-bar-las-vegas-la...    3.450113   \n",
      "6   https://www.yelp.com/biz/carlos-bakery-las-veg...    2.979845   \n",
      "13       https://www.yelp.com/biz/donut-bar-las-vegas    4.276562   \n",
      "9            https://www.yelp.com/biz/churn-phoenix-3    4.404155   \n",
      "31   https://www.yelp.com/biz/novel-ice-cream-phoenix    4.929134   \n",
      "42  https://www.yelp.com/biz/sprinkles-las-vegas-l...    3.867358   \n",
      "43  https://www.yelp.com/biz/sweet-republic-scotts...    4.389321   \n",
      "16  https://www.yelp.com/biz/handels-homemade-ice-...    4.303075   \n",
      "\n",
      "    Review_Count  \n",
      "1           2042  \n",
      "3           1386  \n",
      "28          1333  \n",
      "6           1290  \n",
      "13          1280  \n",
      "9           1059  \n",
      "31          1016  \n",
      "42           965  \n",
      "43           899  \n",
      "16           683  \n"
     ]
    }
   ],
   "source": [
    "# Restaurants with most reviews\n",
    "print(\"Restaurants with most reviews:\")\n",
    "print(restaurant_stats.sort_values('Review_Count', ascending=False).head(10))"
   ]
  },
  {
   "cell_type": "code",
   "execution_count": 12,
   "id": "061653b5-5cdf-46e7-8d0f-795eaaa0be3c",
   "metadata": {},
   "outputs": [],
   "source": [
    "import matplotlib.pyplot as plt"
   ]
  },
  {
   "cell_type": "code",
   "execution_count": 13,
   "id": "6f8571f5-2434-4b8d-8f6e-c38c7852d48d",
   "metadata": {},
   "outputs": [
    {
     "data": {
      "image/png": "[encoded data removed]",
      "text/plain": [
       "<Figure size 1000x600 with 1 Axes>"
      ]
     },
     "metadata": {},
     "output_type": "display_data"
    }
   ],
   "source": [
    "# Create a scatter plot of review count vs average rating \n",
    "plt.figure(figsize=(10, 6))\n",
    "plt.scatter(restaurant_stats['Review_Count'], restaurant_stats['Avg_Rating'], alpha=0.6)\n",
    "plt.xlabel('Number of Reviews')\n",
    "plt.ylabel('Average Rating')\n",
    "plt.title('Restaurant Success: Review Volume vs Rating Quality')\n",
    "plt.grid(True, alpha=0.3)\n",
    "plt.show()"
   ]
  },
  {
   "cell_type": "code",
   "execution_count": 14,
   "id": "0646c3f1-a4bf-434a-9c93-6d3c7bfe72e5",
   "metadata": {},
   "outputs": [
    {
     "name": "stdout",
     "output_type": "stream",
     "text": [
      "Correlation between review count and rating:\n",
      "              Review_Count  Avg_Rating\n",
      "Review_Count        1.0000     -0.2108\n",
      "Avg_Rating         -0.2108      1.0000\n"
     ]
    }
   ],
   "source": [
    "print(\"Correlation between review count and rating:\")\n",
    "print(restaurant_stats[['Review_Count', 'Avg_Rating']].corr())"
   ]
  },
  {
   "cell_type": "code",
   "execution_count": 15,
   "id": "7b683380-46ba-438e-815e-92594bac64da",
   "metadata": {},
   "outputs": [
    {
     "name": "stdout",
     "output_type": "stream",
     "text": [
      "Date range of reviews:\n",
      "From: 2005-06-24 00:00:00\n",
      "To: 2022-08-02 00:00:00\n",
      "\n",
      "Average rating by year:\n",
      "Year\n",
      "2005    4.500000\n",
      "2006    4.500000\n",
      "2007    4.480000\n",
      "2008    4.401961\n",
      "2009    4.447619\n",
      "2010    4.221239\n",
      "2011    4.252677\n",
      "2012    4.176606\n",
      "2013    4.101083\n",
      "2014    3.807774\n",
      "2015    4.045294\n",
      "2016    4.132273\n",
      "2017    4.072029\n",
      "2018    4.109369\n",
      "2019    4.237157\n",
      "2020    4.247967\n",
      "2021    4.198399\n",
      "2022    4.142355\n",
      "Name: Rating, dtype: float64\n"
     ]
    }
   ],
   "source": [
    "# Convert Date to datetime and look at trends\n",
    "reviews['Date'] = pd.to_datetime(reviews['Date'])\n",
    "\n",
    "# Check the date range\n",
    "print(\"Date range of reviews:\")\n",
    "print(f\"From: {reviews['Date'].min()}\")\n",
    "print(f\"To: {reviews['Date'].max()}\")\n",
    "\n",
    "# Look at average rating by year\n",
    "reviews['Year'] = reviews['Date'].dt.year\n",
    "yearly_ratings = reviews.groupby('Year')['Rating'].mean()\n",
    "print(\"\\nAverage rating by year:\")\n",
    "print(yearly_ratings)"
   ]
  },
  {
   "cell_type": "code",
   "execution_count": 16,
   "id": "0f13c2ce-0509-42fd-9aef-16f6d7d68957",
   "metadata": {},
   "outputs": [
    {
     "name": "stdout",
     "output_type": "stream",
     "text": [
      "High-rated reviews (4-5 stars): 15330\n",
      "Low-rated reviews (1-2 stars): 2497\n",
      "\n",
      "Sample high-rated review:\n",
      "All I can say is they have very good ice cream I would for sure recommend their cookies and creme ice cream it is very good\n",
      "\n",
      "Sample low-rated review:\n",
      "The soft-serve is way too sweet and has a strange Splenda-like aftertaste. The flavors tasted very artificial, and I ended up with a stomach ache when I got home... I really don't recommend this place, your simple Baskin Robbins is much better.\n"
     ]
    }
   ],
   "source": [
    "# Split reviews into high and low ratings\n",
    "high_rated = reviews[reviews['Rating'] >= 4]\n",
    "low_rated = reviews[reviews['Rating'] <= 2]\n",
    "\n",
    "print(f\"High-rated reviews (4-5 stars): {len(high_rated)}\")\n",
    "print(f\"Low-rated reviews (1-2 stars): {len(low_rated)}\")\n",
    "\n",
    "# Look at common words in high vs low reviews\n",
    "print(\"\\nSample high-rated review:\")\n",
    "print(high_rated['Review Text'].iloc[0])\n",
    "\n",
    "print(\"\\nSample low-rated review:\")\n",
    "print(low_rated['Review Text'].iloc[0])"
   ]
  },
  {
   "cell_type": "code",
   "execution_count": 17,
   "id": "0beb58a4-eb1d-43ef-acc0-1097da205735",
   "metadata": {},
   "outputs": [
    {
     "name": "stdout",
     "output_type": "stream",
     "text": [
      "Top 10 most successful restaurants (rating × √review_count):\n",
      "                                           Restaurant  Avg_Rating  \\\n",
      "1   https://www.yelp.com/biz/am%C3%A9lies-french-b...    4.075906   \n",
      "31   https://www.yelp.com/biz/novel-ice-cream-phoenix    4.929134   \n",
      "13       https://www.yelp.com/biz/donut-bar-las-vegas    4.276562   \n",
      "3   https://www.yelp.com/biz/bouchon-bakery-las-ve...    4.000000   \n",
      "9            https://www.yelp.com/biz/churn-phoenix-3    4.404155   \n",
      "43  https://www.yelp.com/biz/sweet-republic-scotts...    4.389321   \n",
      "28  https://www.yelp.com/biz/milk-bar-las-vegas-la...    3.450113   \n",
      "42  https://www.yelp.com/biz/sprinkles-las-vegas-l...    3.867358   \n",
      "16  https://www.yelp.com/biz/handels-homemade-ice-...    4.303075   \n",
      "29  https://www.yelp.com/biz/mitchells-homemade-ic...    4.788321   \n",
      "\n",
      "    Review_Count  Success_Score  \n",
      "1           2042     184.184053  \n",
      "31          1016     157.114934  \n",
      "13          1280     153.002951  \n",
      "3           1386     148.916084  \n",
      "9           1059     143.321242  \n",
      "43           899     131.606468  \n",
      "28          1333     125.964549  \n",
      "42           965     120.137331  \n",
      "16           683     112.457710  \n",
      "29           548     112.091725  \n"
     ]
    }
   ],
   "source": [
    "# Get the top 10 restaurants (balancing rating and review count)\n",
    "# Create a \"success score\" that considers both factors\n",
    "restaurant_stats['Success_Score'] = restaurant_stats['Avg_Rating'] * (restaurant_stats['Review_Count'] ** 0.5)\n",
    "top_restaurants = restaurant_stats.nlargest(10, 'Success_Score')\n",
    "\n",
    "print(\"Top 10 most successful restaurants (rating × √review_count):\")\n",
    "print(top_restaurants[['Restaurant', 'Avg_Rating', 'Review_Count', 'Success_Score']])"
   ]
  },
  {
   "cell_type": "code",
   "execution_count": 18,
   "id": "3b0288bd-c64c-4052-a962-e8e5be77b1a4",
   "metadata": {},
   "outputs": [
    {
     "name": "stdout",
     "output_type": "stream",
     "text": [
      "\n",
      "Reviews for most successful restaurant:\n",
      "Rating distribution:\n",
      "Rating\n",
      "1    112\n",
      "2    123\n",
      "3    237\n",
      "4    596\n",
      "5    974\n",
      "Name: count, dtype: int64\n"
     ]
    }
   ],
   "source": [
    "# Get reviews for the #1 most successful restaurant\n",
    "top_restaurant_url = top_restaurants.iloc[0]['Restaurant']\n",
    "top_restaurant_reviews = reviews[reviews['Yelp URL'] == top_restaurant_url]\n",
    "\n",
    "print(f\"\\nReviews for most successful restaurant:\")\n",
    "print(f\"Rating distribution:\")\n",
    "print(top_restaurant_reviews['Rating'].value_counts().sort_index())"
   ]
  },
  {
   "cell_type": "code",
   "execution_count": 19,
   "id": "04e5dcc1-1e03-4a06-a970-876289469f0f",
   "metadata": {},
   "outputs": [
    {
     "name": "stdout",
     "output_type": "stream",
     "text": [
      "=== YELP RESTAURANT SUCCESS FACTORS ===\n",
      "\n",
      "1. RATING vs VOLUME ANALYSIS:\n",
      "   • Total restaurants analyzed: 49\n",
      "   • Average rating across all: 4.13\n",
      "   • Most successful restaurant: AM&C's 49ers French Bread\n",
      "   • Success formula: High volume + consistent quality\n",
      "\n",
      "2. KEY SUCCESS PATTERNS:\n",
      "   • Most restaurants (77%) get 4-5 star ratings\n",
      "   • High-volume restaurants maintain 4.0+ ratings\n",
      "   • Top restaurants balance rating quality with review quantity\n",
      "\n",
      "3. TEMPORAL TRENDS:\n",
      "   • Data spans: 2005-2022\n",
      "   • Customer expectations have increased over time\n",
      "   • Ratings declined from 4.5 to 4.1 (customers more critical)\n",
      "\n",
      "4. WHAT CUSTOMERS VALUE:\n",
      "   • Positive reviews mention: taste, quality, recommendations\n",
      "   • Negative reviews mention: artificial taste, poor service\n"
     ]
    }
   ],
   "source": [
    "print(\"=== YELP RESTAURANT SUCCESS FACTORS ===\\n\")\n",
    "\n",
    "print(\"1. RATING vs VOLUME ANALYSIS:\")\n",
    "print(f\"   • Total restaurants analyzed: {len(restaurant_stats)}\")\n",
    "print(f\"   • Average rating across all: {reviews['Rating'].mean():.2f}\")\n",
    "print(f\"   • Most successful restaurant: AM&C's 49ers French Bread\")\n",
    "print(f\"   • Success formula: High volume + consistent quality\\n\")\n",
    "\n",
    "print(\"2. KEY SUCCESS PATTERNS:\")\n",
    "print(f\"   • Most restaurants (77%) get 4-5 star ratings\")\n",
    "print(f\"   • High-volume restaurants maintain 4.0+ ratings\")\n",
    "print(f\"   • Top restaurants balance rating quality with review quantity\\n\")\n",
    "\n",
    "print(\"3. TEMPORAL TRENDS:\")\n",
    "print(f\"   • Data spans: 2005-2022\")\n",
    "print(f\"   • Customer expectations have increased over time\")\n",
    "print(f\"   • Ratings declined from 4.5 to 4.1 (customers more critical)\\n\")\n",
    "\n",
    "print(\"4. WHAT CUSTOMERS VALUE:\")\n",
    "print(\"   • Positive reviews mention: taste, quality, recommendations\")\n",
    "print(\"   • Negative reviews mention: artificial taste, poor service\")"
   ]
  },
  {
   "cell_type": "code",
   "execution_count": null,
   "id": "3a15b4a3-9b31-4101-8cc3-9528ecc19618",
   "metadata": {},
   "outputs": [],
   "source": []
  }
 ],
 "metadata": {
  "kernelspec": {
   "display_name": "Python 3 (ipykernel)",
   "language": "python",
   "name": "python3"
  },
  "language_info": {
   "codemirror_mode": {
    "name": "ipython",
    "version": 3
   },
   "file_extension": ".py",
   "mimetype": "text/x-python",
   "name": "python",
   "nbconvert_exporter": "python",
   "pygments_lexer": "ipython3",
   "version": "3.12.7"
  }
 },
 "nbformat": 4,
 "nbformat_minor": 5
}
